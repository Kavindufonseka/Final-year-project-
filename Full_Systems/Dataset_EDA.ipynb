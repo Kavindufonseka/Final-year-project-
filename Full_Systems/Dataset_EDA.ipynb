{
 "cells": [
  {
   "cell_type": "markdown",
   "id": "b97e355e",
   "metadata": {
    "papermill": {
     "duration": 0.026412,
     "end_time": "2021-07-25T14:01:28.358753",
     "exception": false,
     "start_time": "2021-07-25T14:01:28.332341",
     "status": "completed"
    },
    "tags": []
   },
   "source": [
    "## Malware Exploratory Notebook - Cybersecutiry Data Science - 2020/1\n",
    "#### Luiz Henrique de Melo Santos\n",
    "\n",
    "Basically, I promoted new data treatments, such as One-Hot and normalization, and used a more accurate learning algorithm for the problem, the LightGBM, from Google."
   ]
  },
  {
   "cell_type": "code",
   "execution_count": 1,
   "id": "459396fb",
   "metadata": {
    "_cell_guid": "b1076dfc-b9ad-4769-8c92-a6c4dae69d19",
    "_uuid": "8f2839f25d086af736a60e9eeb907d3b93b6e0e5",
    "execution": {
     "iopub.execute_input": "2021-07-25T14:01:28.422497Z",
     "iopub.status.busy": "2021-07-25T14:01:28.421807Z",
     "iopub.status.idle": "2021-07-25T14:01:30.802813Z",
     "shell.execute_reply": "2021-07-25T14:01:30.803272Z",
     "shell.execute_reply.started": "2021-07-24T16:40:38.076417Z"
    },
    "papermill": {
     "duration": 2.419365,
     "end_time": "2021-07-25T14:01:30.803571",
     "exception": false,
     "start_time": "2021-07-25T14:01:28.384206",
     "status": "completed"
    },
    "tags": []
   },
   "outputs": [
    {
     "data": {
      "text/html": [
       "<style type='text/css'>\n",
       ".datatable table.frame { margin-bottom: 0; }\n",
       ".datatable table.frame thead { border-bottom: none; }\n",
       ".datatable table.frame tr.coltypes td {  color: #FFFFFF;  line-height: 6px;  padding: 0 0.5em;}\n",
       ".datatable .bool    { background: #DDDD99; }\n",
       ".datatable .object  { background: #565656; }\n",
       ".datatable .int     { background: #5D9E5D; }\n",
       ".datatable .float   { background: #4040CC; }\n",
       ".datatable .str     { background: #CC4040; }\n",
       ".datatable .time    { background: #40CC40; }\n",
       ".datatable .row_index {  background: var(--jp-border-color3);  border-right: 1px solid var(--jp-border-color0);  color: var(--jp-ui-font-color3);  font-size: 9px;}\n",
       ".datatable .frame tbody td { text-align: left; }\n",
       ".datatable .frame tr.coltypes .row_index {  background: var(--jp-border-color0);}\n",
       ".datatable th:nth-child(2) { padding-left: 12px; }\n",
       ".datatable .hellipsis {  color: var(--jp-cell-editor-border-color);}\n",
       ".datatable .vellipsis {  background: var(--jp-layout-color0);  color: var(--jp-cell-editor-border-color);}\n",
       ".datatable .na {  color: var(--jp-cell-editor-border-color);  font-size: 80%;}\n",
       ".datatable .sp {  opacity: 0.25;}\n",
       ".datatable .footer { font-size: 9px; }\n",
       ".datatable .frame_dimensions {  background: var(--jp-border-color3);  border-top: 1px solid var(--jp-border-color0);  color: var(--jp-ui-font-color3);  display: inline-block;  opacity: 0.6;  padding: 1px 10px 1px 5px;}\n",
       "</style>\n"
      ],
      "text/plain": [
       "<IPython.core.display.HTML object>"
      ]
     },
     "metadata": {},
     "output_type": "display_data"
    },
    {
     "name": "stdout",
     "output_type": "stream",
     "text": [
      "/kaggle/input/malware/malware.csv\n"
     ]
    }
   ],
   "source": [
    "import numpy as np # linear algebra\n",
    "import pandas as pd # data processing, CSV file I/O (e.g. pd.read_csv)\n",
    "\n",
    "import lightgbm as lgb\n",
    "from sklearn import metrics\n",
    "import matplotlib.pyplot as plt\n",
    "from IPython.display import clear_output\n",
    "from sklearn.model_selection import GridSearchCV\n",
    "from sklearn.ensemble import ExtraTreesClassifier\n",
    "from sklearn.model_selection import train_test_split\n",
    "from sklearn.feature_selection import SelectFromModel\n",
    "\n",
    "import os\n",
    "for dirname, _, filenames in os.walk('/kaggle/input'):\n",
    "    for filename in filenames:\n",
    "        print(os.path.join(dirname, filename))\n",
    "        \n",
    "RANDOM_STATE = 42"
   ]
  },
  {
   "cell_type": "markdown",
   "id": "e19bb9fb",
   "metadata": {
    "papermill": {
     "duration": 0.02529,
     "end_time": "2021-07-25T14:01:30.855274",
     "exception": false,
     "start_time": "2021-07-25T14:01:30.829984",
     "status": "completed"
    },
    "tags": []
   },
   "source": [
    "### Data import"
   ]
  },
  {
   "cell_type": "code",
   "execution_count": 2,
   "id": "2e23b8ed",
   "metadata": {
    "execution": {
     "iopub.execute_input": "2021-07-25T14:01:30.910382Z",
     "iopub.status.busy": "2021-07-25T14:01:30.909744Z",
     "iopub.status.idle": "2021-07-25T14:01:32.499829Z",
     "shell.execute_reply": "2021-07-25T14:01:32.500328Z",
     "shell.execute_reply.started": "2021-07-24T16:10:20.728254Z"
    },
    "papermill": {
     "duration": 1.618969,
     "end_time": "2021-07-25T14:01:32.500571",
     "exception": false,
     "start_time": "2021-07-25T14:01:30.881602",
     "status": "completed"
    },
    "tags": []
   },
   "outputs": [],
   "source": [
    "#In this section we use a labeled malware dataset. \n",
    "#The malware dataset contains features extracted from the following:\n",
    "#41,323 Windows binaries (executables .exe and .dlls), as legitimate files.\n",
    "#96,724 malware files downloaded from the VirusShare website. So, the dataset\n",
    "# contains 138,048 lines, in total.\n",
    "\n",
    "MalwareDataset = pd.read_csv('/kaggle/input/malware/malware.csv', sep='|')"
   ]
  },
  {
   "cell_type": "markdown",
   "id": "54381b83",
   "metadata": {
    "papermill": {
     "duration": 0.025501,
     "end_time": "2021-07-25T14:01:32.553126",
     "exception": false,
     "start_time": "2021-07-25T14:01:32.527625",
     "status": "completed"
    },
    "tags": []
   },
   "source": [
    "### Quick-view of data"
   ]
  },
  {
   "cell_type": "code",
   "execution_count": 3,
   "id": "ebfd3ea0",
   "metadata": {
    "execution": {
     "iopub.execute_input": "2021-07-25T14:01:32.607730Z",
     "iopub.status.busy": "2021-07-25T14:01:32.607098Z",
     "iopub.status.idle": "2021-07-25T14:01:32.612937Z",
     "shell.execute_reply": "2021-07-25T14:01:32.612204Z",
     "shell.execute_reply.started": "2021-07-24T16:10:23.170331Z"
    },
    "papermill": {
     "duration": 0.034195,
     "end_time": "2021-07-25T14:01:32.613115",
     "exception": false,
     "start_time": "2021-07-25T14:01:32.578920",
     "status": "completed"
    },
    "tags": []
   },
   "outputs": [
    {
     "name": "stdout",
     "output_type": "stream",
     "text": [
      "The Number of important features is 56 \n",
      "\n"
     ]
    }
   ],
   "source": [
    "# To make sure that the dataset has loaded properly, let's print the number of important features:\n",
    "print('The Number of important features is %i \\n' % (MalwareDataset.shape[1]-1))"
   ]
  },
  {
   "cell_type": "code",
   "execution_count": 4,
   "id": "31db3b89",
   "metadata": {
    "execution": {
     "iopub.execute_input": "2021-07-25T14:01:32.681143Z",
     "iopub.status.busy": "2021-07-25T14:01:32.680280Z",
     "iopub.status.idle": "2021-07-25T14:01:32.704190Z",
     "shell.execute_reply": "2021-07-25T14:01:32.703666Z",
     "shell.execute_reply.started": "2021-07-24T16:10:23.1895Z"
    },
    "papermill": {
     "duration": 0.063533,
     "end_time": "2021-07-25T14:01:32.704340",
     "exception": false,
     "start_time": "2021-07-25T14:01:32.640807",
     "status": "completed"
    },
    "tags": []
   },
   "outputs": [
    {
     "data": {
      "text/html": [
       "<div>\n",
       "<style scoped>\n",
       "    .dataframe tbody tr th:only-of-type {\n",
       "        vertical-align: middle;\n",
       "    }\n",
       "\n",
       "    .dataframe tbody tr th {\n",
       "        vertical-align: top;\n",
       "    }\n",
       "\n",
       "    .dataframe thead th {\n",
       "        text-align: right;\n",
       "    }\n",
       "</style>\n",
       "<table border=\"1\" class=\"dataframe\">\n",
       "  <thead>\n",
       "    <tr style=\"text-align: right;\">\n",
       "      <th></th>\n",
       "      <th>Name</th>\n",
       "      <th>md5</th>\n",
       "      <th>Machine</th>\n",
       "      <th>SizeOfOptionalHeader</th>\n",
       "      <th>Characteristics</th>\n",
       "      <th>MajorLinkerVersion</th>\n",
       "      <th>MinorLinkerVersion</th>\n",
       "      <th>SizeOfCode</th>\n",
       "      <th>SizeOfInitializedData</th>\n",
       "      <th>SizeOfUninitializedData</th>\n",
       "      <th>...</th>\n",
       "      <th>ResourcesNb</th>\n",
       "      <th>ResourcesMeanEntropy</th>\n",
       "      <th>ResourcesMinEntropy</th>\n",
       "      <th>ResourcesMaxEntropy</th>\n",
       "      <th>ResourcesMeanSize</th>\n",
       "      <th>ResourcesMinSize</th>\n",
       "      <th>ResourcesMaxSize</th>\n",
       "      <th>LoadConfigurationSize</th>\n",
       "      <th>VersionInformationSize</th>\n",
       "      <th>legitimate</th>\n",
       "    </tr>\n",
       "  </thead>\n",
       "  <tbody>\n",
       "    <tr>\n",
       "      <th>0</th>\n",
       "      <td>memtest.exe</td>\n",
       "      <td>631ea355665f28d4707448e442fbf5b8</td>\n",
       "      <td>332</td>\n",
       "      <td>224</td>\n",
       "      <td>258</td>\n",
       "      <td>9</td>\n",
       "      <td>0</td>\n",
       "      <td>361984</td>\n",
       "      <td>115712</td>\n",
       "      <td>0</td>\n",
       "      <td>...</td>\n",
       "      <td>4</td>\n",
       "      <td>3.262823</td>\n",
       "      <td>2.568844</td>\n",
       "      <td>3.537939</td>\n",
       "      <td>8797.000000</td>\n",
       "      <td>216</td>\n",
       "      <td>18032</td>\n",
       "      <td>0</td>\n",
       "      <td>16</td>\n",
       "      <td>1</td>\n",
       "    </tr>\n",
       "    <tr>\n",
       "      <th>1</th>\n",
       "      <td>ose.exe</td>\n",
       "      <td>9d10f99a6712e28f8acd5641e3a7ea6b</td>\n",
       "      <td>332</td>\n",
       "      <td>224</td>\n",
       "      <td>3330</td>\n",
       "      <td>9</td>\n",
       "      <td>0</td>\n",
       "      <td>130560</td>\n",
       "      <td>19968</td>\n",
       "      <td>0</td>\n",
       "      <td>...</td>\n",
       "      <td>2</td>\n",
       "      <td>4.250461</td>\n",
       "      <td>3.420744</td>\n",
       "      <td>5.080177</td>\n",
       "      <td>837.000000</td>\n",
       "      <td>518</td>\n",
       "      <td>1156</td>\n",
       "      <td>72</td>\n",
       "      <td>18</td>\n",
       "      <td>1</td>\n",
       "    </tr>\n",
       "    <tr>\n",
       "      <th>2</th>\n",
       "      <td>setup.exe</td>\n",
       "      <td>4d92f518527353c0db88a70fddcfd390</td>\n",
       "      <td>332</td>\n",
       "      <td>224</td>\n",
       "      <td>3330</td>\n",
       "      <td>9</td>\n",
       "      <td>0</td>\n",
       "      <td>517120</td>\n",
       "      <td>621568</td>\n",
       "      <td>0</td>\n",
       "      <td>...</td>\n",
       "      <td>11</td>\n",
       "      <td>4.426324</td>\n",
       "      <td>2.846449</td>\n",
       "      <td>5.271813</td>\n",
       "      <td>31102.272727</td>\n",
       "      <td>104</td>\n",
       "      <td>270376</td>\n",
       "      <td>72</td>\n",
       "      <td>18</td>\n",
       "      <td>1</td>\n",
       "    </tr>\n",
       "    <tr>\n",
       "      <th>3</th>\n",
       "      <td>DW20.EXE</td>\n",
       "      <td>a41e524f8d45f0074fd07805ff0c9b12</td>\n",
       "      <td>332</td>\n",
       "      <td>224</td>\n",
       "      <td>258</td>\n",
       "      <td>9</td>\n",
       "      <td>0</td>\n",
       "      <td>585728</td>\n",
       "      <td>369152</td>\n",
       "      <td>0</td>\n",
       "      <td>...</td>\n",
       "      <td>10</td>\n",
       "      <td>4.364291</td>\n",
       "      <td>2.669314</td>\n",
       "      <td>6.400720</td>\n",
       "      <td>1457.000000</td>\n",
       "      <td>90</td>\n",
       "      <td>4264</td>\n",
       "      <td>72</td>\n",
       "      <td>18</td>\n",
       "      <td>1</td>\n",
       "    </tr>\n",
       "    <tr>\n",
       "      <th>4</th>\n",
       "      <td>dwtrig20.exe</td>\n",
       "      <td>c87e561258f2f8650cef999bf643a731</td>\n",
       "      <td>332</td>\n",
       "      <td>224</td>\n",
       "      <td>258</td>\n",
       "      <td>9</td>\n",
       "      <td>0</td>\n",
       "      <td>294912</td>\n",
       "      <td>247296</td>\n",
       "      <td>0</td>\n",
       "      <td>...</td>\n",
       "      <td>2</td>\n",
       "      <td>4.306100</td>\n",
       "      <td>3.421598</td>\n",
       "      <td>5.190603</td>\n",
       "      <td>1074.500000</td>\n",
       "      <td>849</td>\n",
       "      <td>1300</td>\n",
       "      <td>72</td>\n",
       "      <td>18</td>\n",
       "      <td>1</td>\n",
       "    </tr>\n",
       "  </tbody>\n",
       "</table>\n",
       "<p>5 rows × 57 columns</p>\n",
       "</div>"
      ],
      "text/plain": [
       "           Name                               md5  Machine  \\\n",
       "0   memtest.exe  631ea355665f28d4707448e442fbf5b8      332   \n",
       "1       ose.exe  9d10f99a6712e28f8acd5641e3a7ea6b      332   \n",
       "2     setup.exe  4d92f518527353c0db88a70fddcfd390      332   \n",
       "3      DW20.EXE  a41e524f8d45f0074fd07805ff0c9b12      332   \n",
       "4  dwtrig20.exe  c87e561258f2f8650cef999bf643a731      332   \n",
       "\n",
       "   SizeOfOptionalHeader  Characteristics  MajorLinkerVersion  \\\n",
       "0                   224              258                   9   \n",
       "1                   224             3330                   9   \n",
       "2                   224             3330                   9   \n",
       "3                   224              258                   9   \n",
       "4                   224              258                   9   \n",
       "\n",
       "   MinorLinkerVersion  SizeOfCode  SizeOfInitializedData  \\\n",
       "0                   0      361984                 115712   \n",
       "1                   0      130560                  19968   \n",
       "2                   0      517120                 621568   \n",
       "3                   0      585728                 369152   \n",
       "4                   0      294912                 247296   \n",
       "\n",
       "   SizeOfUninitializedData  ...  ResourcesNb  ResourcesMeanEntropy  \\\n",
       "0                        0  ...            4              3.262823   \n",
       "1                        0  ...            2              4.250461   \n",
       "2                        0  ...           11              4.426324   \n",
       "3                        0  ...           10              4.364291   \n",
       "4                        0  ...            2              4.306100   \n",
       "\n",
       "   ResourcesMinEntropy  ResourcesMaxEntropy  ResourcesMeanSize  \\\n",
       "0             2.568844             3.537939        8797.000000   \n",
       "1             3.420744             5.080177         837.000000   \n",
       "2             2.846449             5.271813       31102.272727   \n",
       "3             2.669314             6.400720        1457.000000   \n",
       "4             3.421598             5.190603        1074.500000   \n",
       "\n",
       "   ResourcesMinSize  ResourcesMaxSize  LoadConfigurationSize  \\\n",
       "0               216             18032                      0   \n",
       "1               518              1156                     72   \n",
       "2               104            270376                     72   \n",
       "3                90              4264                     72   \n",
       "4               849              1300                     72   \n",
       "\n",
       "   VersionInformationSize  legitimate  \n",
       "0                      16           1  \n",
       "1                      18           1  \n",
       "2                      18           1  \n",
       "3                      18           1  \n",
       "4                      18           1  \n",
       "\n",
       "[5 rows x 57 columns]"
      ]
     },
     "execution_count": 4,
     "metadata": {},
     "output_type": "execute_result"
    }
   ],
   "source": [
    "MalwareDataset.head()"
   ]
  },
  {
   "cell_type": "code",
   "execution_count": 5,
   "id": "88d9886b",
   "metadata": {
    "execution": {
     "iopub.execute_input": "2021-07-25T14:01:32.768616Z",
     "iopub.status.busy": "2021-07-25T14:01:32.767627Z",
     "iopub.status.idle": "2021-07-25T14:01:33.130174Z",
     "shell.execute_reply": "2021-07-25T14:01:33.129620Z",
     "shell.execute_reply.started": "2021-07-24T16:10:23.280696Z"
    },
    "papermill": {
     "duration": 0.397423,
     "end_time": "2021-07-25T14:01:33.130315",
     "exception": false,
     "start_time": "2021-07-25T14:01:32.732892",
     "status": "completed"
    },
    "tags": []
   },
   "outputs": [
    {
     "data": {
      "text/plain": [
       "[]"
      ]
     },
     "execution_count": 5,
     "metadata": {},
     "output_type": "execute_result"
    },
    {
     "data": {
      "image/png": "[encoded data removed]",
      "text/plain": [
       "<Figure size 432x288 with 1 Axes>"
      ]
     },
     "metadata": {
      "needs_background": "light"
     },
     "output_type": "display_data"
    }
   ],
   "source": [
    "# looking for class distribution\n",
    "classes = MalwareDataset['legitimate'].map({0:'Malware',1:'Legitimate'}).sort_values()\n",
    "plt.xlabel('Label')\n",
    "plt.ylabel('Number of occurencies')\n",
    "plt.title('Occurencies of labels')\n",
    "plt.hist(classes, bins=3)\n",
    "plt.plot()"
   ]
  },
  {
   "cell_type": "markdown",
   "id": "3b744c10",
   "metadata": {
    "papermill": {
     "duration": 0.027397,
     "end_time": "2021-07-25T14:01:33.185776",
     "exception": false,
     "start_time": "2021-07-25T14:01:33.158379",
     "status": "completed"
    },
    "tags": []
   },
   "source": [
    "### Data treatment"
   ]
  },
  {
   "cell_type": "code",
   "execution_count": 6,
   "id": "b773e191",
   "metadata": {
    "execution": {
     "iopub.execute_input": "2021-07-25T14:01:33.246129Z",
     "iopub.status.busy": "2021-07-25T14:01:33.245393Z",
     "iopub.status.idle": "2021-07-25T14:01:33.290295Z",
     "shell.execute_reply": "2021-07-25T14:01:33.289753Z",
     "shell.execute_reply.started": "2021-07-24T16:10:23.967562Z"
    },
    "papermill": {
     "duration": 0.076818,
     "end_time": "2021-07-25T14:01:33.290447",
     "exception": false,
     "start_time": "2021-07-25T14:01:33.213629",
     "status": "completed"
    },
    "tags": []
   },
   "outputs": [
    {
     "name": "stdout",
     "output_type": "stream",
     "text": [
      "0\n"
     ]
    }
   ],
   "source": [
    "# check for NaN values\n",
    "print(MalwareDataset.isnull().sum().sum())"
   ]
  },
  {
   "cell_type": "code",
   "execution_count": 7,
   "id": "7284697e",
   "metadata": {
    "execution": {
     "iopub.execute_input": "2021-07-25T14:01:33.364631Z",
     "iopub.status.busy": "2021-07-25T14:01:33.363493Z",
     "iopub.status.idle": "2021-07-25T14:01:33.368171Z",
     "shell.execute_reply": "2021-07-25T14:01:33.368628Z",
     "shell.execute_reply.started": "2021-07-24T16:10:24.021569Z"
    },
    "papermill": {
     "duration": 0.049826,
     "end_time": "2021-07-25T14:01:33.368799",
     "exception": false,
     "start_time": "2021-07-25T14:01:33.318973",
     "status": "completed"
    },
    "tags": []
   },
   "outputs": [],
   "source": [
    "# removing non-relevant features\n",
    "MalwareDataset = MalwareDataset.drop(['Name', 'md5'], axis=1)"
   ]
  },
  {
   "cell_type": "code",
   "execution_count": 8,
   "id": "fc2d9d21",
   "metadata": {
    "execution": {
     "iopub.execute_input": "2021-07-25T14:01:33.430623Z",
     "iopub.status.busy": "2021-07-25T14:01:33.429703Z",
     "iopub.status.idle": "2021-07-25T14:01:33.561278Z",
     "shell.execute_reply": "2021-07-25T14:01:33.561923Z",
     "shell.execute_reply.started": "2021-07-24T16:10:24.061556Z"
    },
    "papermill": {
     "duration": 0.165062,
     "end_time": "2021-07-25T14:01:33.562120",
     "exception": false,
     "start_time": "2021-07-25T14:01:33.397058",
     "status": "completed"
    },
    "tags": []
   },
   "outputs": [
    {
     "data": {
      "text/plain": [
       "Machine                            3\n",
       "SizeOfOptionalHeader               5\n",
       "Characteristics                  104\n",
       "MajorLinkerVersion                41\n",
       "MinorLinkerVersion                62\n",
       "SizeOfCode                      3809\n",
       "SizeOfInitializedData           3217\n",
       "SizeOfUninitializedData          441\n",
       "AddressOfEntryPoint            23110\n",
       "BaseOfCode                       385\n",
       "BaseOfData                      1106\n",
       "ImageBase                       9099\n",
       "SectionAlignment                  12\n",
       "FileAlignment                      9\n",
       "MajorOperatingSystemVersion       12\n",
       "MinorOperatingSystemVersion       12\n",
       "MajorImageVersion                 38\n",
       "MinorImageVersion                 70\n",
       "MajorSubsystemVersion              6\n",
       "MinorSubsystemVersion             10\n",
       "SizeOfImage                     2312\n",
       "SizeOfHeaders                     30\n",
       "CheckSum                       81633\n",
       "Subsystem                          4\n",
       "DllCharacteristics                74\n",
       "SizeOfStackReserve                40\n",
       "SizeOfStackCommit                 40\n",
       "SizeOfHeapReserve                 30\n",
       "SizeOfHeapCommit                  21\n",
       "LoaderFlags                       15\n",
       "NumberOfRvaAndSizes               23\n",
       "SectionsNb                        28\n",
       "SectionsMeanEntropy            58807\n",
       "SectionsMinEntropy             25505\n",
       "SectionsMaxEntropy             49062\n",
       "SectionsMeanRawsize             9233\n",
       "SectionsMinRawsize               694\n",
       "SectionMaxRawsize               4796\n",
       "SectionsMeanVirtualsize        36811\n",
       "SectionsMinVirtualsize          6515\n",
       "SectionMaxVirtualsize          29123\n",
       "ImportsNbDLL                      48\n",
       "ImportsNb                        954\n",
       "ImportsNbOrdinal                 337\n",
       "ExportNb                         670\n",
       "ResourcesNb                      496\n",
       "ResourcesMeanEntropy           42745\n",
       "ResourcesMinEntropy            17929\n",
       "ResourcesMaxEntropy            23004\n",
       "ResourcesMeanSize              16013\n",
       "ResourcesMinSize                1011\n",
       "ResourcesMaxSize                6150\n",
       "LoadConfigurationSize             39\n",
       "VersionInformationSize            20\n",
       "legitimate                         2\n",
       "dtype: int64"
      ]
     },
     "execution_count": 8,
     "metadata": {},
     "output_type": "execute_result"
    }
   ],
   "source": [
    "# looking for unique values per column\n",
    "MalwareDataset.nunique()"
   ]
  },
  {
   "cell_type": "code",
   "execution_count": 9,
   "id": "fcceff04",
   "metadata": {
    "execution": {
     "iopub.execute_input": "2021-07-25T14:01:33.627324Z",
     "iopub.status.busy": "2021-07-25T14:01:33.626690Z",
     "iopub.status.idle": "2021-07-25T14:01:33.956536Z",
     "shell.execute_reply": "2021-07-25T14:01:33.955959Z",
     "shell.execute_reply.started": "2021-07-24T16:10:24.419123Z"
    },
    "papermill": {
     "duration": 0.365687,
     "end_time": "2021-07-25T14:01:33.956681",
     "exception": false,
     "start_time": "2021-07-25T14:01:33.590994",
     "status": "completed"
    },
    "tags": []
   },
   "outputs": [],
   "source": [
    "# apply One-Hot Encoder\n",
    "MalwareDataset = pd.concat([MalwareDataset, pd.get_dummies(MalwareDataset.Machine, prefix='Machine')], axis=1).drop(['Machine'], axis=1)\n",
    "MalwareDataset = pd.concat([MalwareDataset, pd.get_dummies(MalwareDataset.SizeOfOptionalHeader, prefix='SizeOfOptionalHeader')], axis=1).drop(['SizeOfOptionalHeader'], axis=1)\n",
    "MalwareDataset = pd.concat([MalwareDataset, pd.get_dummies(MalwareDataset.Subsystem, prefix='Subsystem')], axis=1).drop(['Subsystem'], axis=1)\n",
    "MalwareDataset = pd.concat([MalwareDataset, pd.get_dummies(MalwareDataset.FileAlignment, prefix='FileAlignment')], axis=1).drop(['FileAlignment'], axis=1)"
   ]
  },
  {
   "cell_type": "code",
   "execution_count": 10,
   "id": "6f2acf79",
   "metadata": {
    "execution": {
     "iopub.execute_input": "2021-07-25T14:01:34.020571Z",
     "iopub.status.busy": "2021-07-25T14:01:34.019909Z",
     "iopub.status.idle": "2021-07-25T14:01:34.023927Z",
     "shell.execute_reply": "2021-07-25T14:01:34.024365Z",
     "shell.execute_reply.started": "2021-07-24T16:10:25.294151Z"
    },
    "papermill": {
     "duration": 0.038955,
     "end_time": "2021-07-25T14:01:34.024604",
     "exception": false,
     "start_time": "2021-07-25T14:01:33.985649",
     "status": "completed"
    },
    "tags": []
   },
   "outputs": [
    {
     "data": {
      "text/plain": [
       "(138047, 72)"
      ]
     },
     "execution_count": 10,
     "metadata": {},
     "output_type": "execute_result"
    }
   ],
   "source": [
    "# define features and target\n",
    "target = 'legitimate'\n",
    "features = MalwareDataset.columns.to_list()\n",
    "features.remove(target)\n",
    "\n",
    "MalwareDataset.shape"
   ]
  },
  {
   "cell_type": "code",
   "execution_count": 11,
   "id": "01b917f0",
   "metadata": {
    "execution": {
     "iopub.execute_input": "2021-07-25T14:01:34.088447Z",
     "iopub.status.busy": "2021-07-25T14:01:34.087831Z",
     "iopub.status.idle": "2021-07-25T14:01:34.541191Z",
     "shell.execute_reply": "2021-07-25T14:01:34.541755Z",
     "shell.execute_reply.started": "2021-07-24T16:10:25.314797Z"
    },
    "papermill": {
     "duration": 0.487999,
     "end_time": "2021-07-25T14:01:34.541941",
     "exception": false,
     "start_time": "2021-07-25T14:01:34.053942",
     "status": "completed"
    },
    "tags": []
   },
   "outputs": [],
   "source": [
    "# normalization of features\n",
    "MalwareDataset[features] = (MalwareDataset[features]-MalwareDataset[features].mean())/MalwareDataset[features].std()"
   ]
  },
  {
   "cell_type": "code",
   "execution_count": 12,
   "id": "8e93efda",
   "metadata": {
    "execution": {
     "iopub.execute_input": "2021-07-25T14:01:34.603388Z",
     "iopub.status.busy": "2021-07-25T14:01:34.602759Z",
     "iopub.status.idle": "2021-07-25T14:01:34.632763Z",
     "shell.execute_reply": "2021-07-25T14:01:34.633219Z",
     "shell.execute_reply.started": "2021-07-24T16:10:26.048728Z"
    },
    "papermill": {
     "duration": 0.062159,
     "end_time": "2021-07-25T14:01:34.633391",
     "exception": false,
     "start_time": "2021-07-25T14:01:34.571232",
     "status": "completed"
    },
    "tags": []
   },
   "outputs": [
    {
     "data": {
      "text/html": [
       "<div>\n",
       "<style scoped>\n",
       "    .dataframe tbody tr th:only-of-type {\n",
       "        vertical-align: middle;\n",
       "    }\n",
       "\n",
       "    .dataframe tbody tr th {\n",
       "        vertical-align: top;\n",
       "    }\n",
       "\n",
       "    .dataframe thead th {\n",
       "        text-align: right;\n",
       "    }\n",
       "</style>\n",
       "<table border=\"1\" class=\"dataframe\">\n",
       "  <thead>\n",
       "    <tr style=\"text-align: right;\">\n",
       "      <th></th>\n",
       "      <th>Characteristics</th>\n",
       "      <th>MajorLinkerVersion</th>\n",
       "      <th>MinorLinkerVersion</th>\n",
       "      <th>SizeOfCode</th>\n",
       "      <th>SizeOfInitializedData</th>\n",
       "      <th>SizeOfUninitializedData</th>\n",
       "      <th>AddressOfEntryPoint</th>\n",
       "      <th>BaseOfCode</th>\n",
       "      <th>BaseOfData</th>\n",
       "      <th>ImageBase</th>\n",
       "      <th>...</th>\n",
       "      <th>Subsystem_16</th>\n",
       "      <th>FileAlignment_16</th>\n",
       "      <th>FileAlignment_32</th>\n",
       "      <th>FileAlignment_64</th>\n",
       "      <th>FileAlignment_128</th>\n",
       "      <th>FileAlignment_512</th>\n",
       "      <th>FileAlignment_1024</th>\n",
       "      <th>FileAlignment_2048</th>\n",
       "      <th>FileAlignment_4096</th>\n",
       "      <th>FileAlignment_65536</th>\n",
       "    </tr>\n",
       "  </thead>\n",
       "  <tbody>\n",
       "    <tr>\n",
       "      <th>0</th>\n",
       "      <td>-0.511330</td>\n",
       "      <td>0.092993</td>\n",
       "      <td>-0.321958</td>\n",
       "      <td>0.020747</td>\n",
       "      <td>-0.015930</td>\n",
       "      <td>-0.006173</td>\n",
       "      <td>-0.048337</td>\n",
       "      <td>-0.009715</td>\n",
       "      <td>0.069177</td>\n",
       "      <td>-0.005389</td>\n",
       "      <td>...</td>\n",
       "      <td>59.486478</td>\n",
       "      <td>-0.004662</td>\n",
       "      <td>-0.017236</td>\n",
       "      <td>-0.003806</td>\n",
       "      <td>-0.027851</td>\n",
       "      <td>0.223933</td>\n",
       "      <td>-0.010424</td>\n",
       "      <td>-0.002691</td>\n",
       "      <td>-0.220252</td>\n",
       "      <td>-0.016151</td>\n",
       "    </tr>\n",
       "    <tr>\n",
       "      <th>1</th>\n",
       "      <td>-0.136091</td>\n",
       "      <td>0.092993</td>\n",
       "      <td>-0.321958</td>\n",
       "      <td>-0.019469</td>\n",
       "      <td>-0.020485</td>\n",
       "      <td>-0.006173</td>\n",
       "      <td>-0.026287</td>\n",
       "      <td>-0.009715</td>\n",
       "      <td>-0.035655</td>\n",
       "      <td>-0.005389</td>\n",
       "      <td>...</td>\n",
       "      <td>-0.016810</td>\n",
       "      <td>-0.004662</td>\n",
       "      <td>-0.017236</td>\n",
       "      <td>-0.003806</td>\n",
       "      <td>-0.027851</td>\n",
       "      <td>0.223933</td>\n",
       "      <td>-0.010424</td>\n",
       "      <td>-0.002691</td>\n",
       "      <td>-0.220252</td>\n",
       "      <td>-0.016151</td>\n",
       "    </tr>\n",
       "    <tr>\n",
       "      <th>2</th>\n",
       "      <td>-0.136091</td>\n",
       "      <td>0.092993</td>\n",
       "      <td>-0.321958</td>\n",
       "      <td>0.047706</td>\n",
       "      <td>0.008141</td>\n",
       "      <td>-0.006173</td>\n",
       "      <td>0.052161</td>\n",
       "      <td>-0.009715</td>\n",
       "      <td>0.269483</td>\n",
       "      <td>-0.005389</td>\n",
       "      <td>...</td>\n",
       "      <td>-0.016810</td>\n",
       "      <td>-0.004662</td>\n",
       "      <td>-0.017236</td>\n",
       "      <td>-0.003806</td>\n",
       "      <td>-0.027851</td>\n",
       "      <td>0.223933</td>\n",
       "      <td>-0.010424</td>\n",
       "      <td>-0.002691</td>\n",
       "      <td>-0.220252</td>\n",
       "      <td>-0.016151</td>\n",
       "    </tr>\n",
       "    <tr>\n",
       "      <th>3</th>\n",
       "      <td>-0.511330</td>\n",
       "      <td>0.092993</td>\n",
       "      <td>-0.321958</td>\n",
       "      <td>0.059629</td>\n",
       "      <td>-0.003870</td>\n",
       "      <td>-0.006173</td>\n",
       "      <td>0.081416</td>\n",
       "      <td>-0.009715</td>\n",
       "      <td>0.263867</td>\n",
       "      <td>-0.005389</td>\n",
       "      <td>...</td>\n",
       "      <td>-0.016810</td>\n",
       "      <td>-0.004662</td>\n",
       "      <td>-0.017236</td>\n",
       "      <td>-0.003806</td>\n",
       "      <td>-0.027851</td>\n",
       "      <td>0.223933</td>\n",
       "      <td>-0.010424</td>\n",
       "      <td>-0.002691</td>\n",
       "      <td>-0.220252</td>\n",
       "      <td>-0.016151</td>\n",
       "    </tr>\n",
       "    <tr>\n",
       "      <th>4</th>\n",
       "      <td>-0.511330</td>\n",
       "      <td>0.092993</td>\n",
       "      <td>-0.321958</td>\n",
       "      <td>0.009091</td>\n",
       "      <td>-0.009668</td>\n",
       "      <td>-0.006173</td>\n",
       "      <td>0.013241</td>\n",
       "      <td>-0.009715</td>\n",
       "      <td>0.144058</td>\n",
       "      <td>-0.005389</td>\n",
       "      <td>...</td>\n",
       "      <td>-0.016810</td>\n",
       "      <td>-0.004662</td>\n",
       "      <td>-0.017236</td>\n",
       "      <td>-0.003806</td>\n",
       "      <td>-0.027851</td>\n",
       "      <td>0.223933</td>\n",
       "      <td>-0.010424</td>\n",
       "      <td>-0.002691</td>\n",
       "      <td>-0.220252</td>\n",
       "      <td>-0.016151</td>\n",
       "    </tr>\n",
       "  </tbody>\n",
       "</table>\n",
       "<p>5 rows × 72 columns</p>\n",
       "</div>"
      ],
      "text/plain": [
       "   Characteristics  MajorLinkerVersion  MinorLinkerVersion  SizeOfCode  \\\n",
       "0        -0.511330            0.092993           -0.321958    0.020747   \n",
       "1        -0.136091            0.092993           -0.321958   -0.019469   \n",
       "2        -0.136091            0.092993           -0.321958    0.047706   \n",
       "3        -0.511330            0.092993           -0.321958    0.059629   \n",
       "4        -0.511330            0.092993           -0.321958    0.009091   \n",
       "\n",
       "   SizeOfInitializedData  SizeOfUninitializedData  AddressOfEntryPoint  \\\n",
       "0              -0.015930                -0.006173            -0.048337   \n",
       "1              -0.020485                -0.006173            -0.026287   \n",
       "2               0.008141                -0.006173             0.052161   \n",
       "3              -0.003870                -0.006173             0.081416   \n",
       "4              -0.009668                -0.006173             0.013241   \n",
       "\n",
       "   BaseOfCode  BaseOfData  ImageBase  ...  Subsystem_16  FileAlignment_16  \\\n",
       "0   -0.009715    0.069177  -0.005389  ...     59.486478         -0.004662   \n",
       "1   -0.009715   -0.035655  -0.005389  ...     -0.016810         -0.004662   \n",
       "2   -0.009715    0.269483  -0.005389  ...     -0.016810         -0.004662   \n",
       "3   -0.009715    0.263867  -0.005389  ...     -0.016810         -0.004662   \n",
       "4   -0.009715    0.144058  -0.005389  ...     -0.016810         -0.004662   \n",
       "\n",
       "   FileAlignment_32  FileAlignment_64  FileAlignment_128  FileAlignment_512  \\\n",
       "0         -0.017236         -0.003806          -0.027851           0.223933   \n",
       "1         -0.017236         -0.003806          -0.027851           0.223933   \n",
       "2         -0.017236         -0.003806          -0.027851           0.223933   \n",
       "3         -0.017236         -0.003806          -0.027851           0.223933   \n",
       "4         -0.017236         -0.003806          -0.027851           0.223933   \n",
       "\n",
       "   FileAlignment_1024  FileAlignment_2048  FileAlignment_4096  \\\n",
       "0           -0.010424           -0.002691           -0.220252   \n",
       "1           -0.010424           -0.002691           -0.220252   \n",
       "2           -0.010424           -0.002691           -0.220252   \n",
       "3           -0.010424           -0.002691           -0.220252   \n",
       "4           -0.010424           -0.002691           -0.220252   \n",
       "\n",
       "   FileAlignment_65536  \n",
       "0            -0.016151  \n",
       "1            -0.016151  \n",
       "2            -0.016151  \n",
       "3            -0.016151  \n",
       "4            -0.016151  \n",
       "\n",
       "[5 rows x 72 columns]"
      ]
     },
     "execution_count": 12,
     "metadata": {},
     "output_type": "execute_result"
    }
   ],
   "source": [
    "MalwareDataset.head()"
   ]
  },
  {
   "cell_type": "code",
   "execution_count": 13,
   "id": "c259ba0a",
   "metadata": {
    "execution": {
     "iopub.execute_input": "2021-07-25T14:01:34.698808Z",
     "iopub.status.busy": "2021-07-25T14:01:34.698060Z",
     "iopub.status.idle": "2021-07-25T14:01:34.780535Z",
     "shell.execute_reply": "2021-07-25T14:01:34.779973Z",
     "shell.execute_reply.started": "2021-07-24T16:10:26.155924Z"
    },
    "papermill": {
     "duration": 0.117619,
     "end_time": "2021-07-25T14:01:34.780684",
     "exception": false,
     "start_time": "2021-07-25T14:01:34.663065",
     "status": "completed"
    },
    "tags": []
   },
   "outputs": [],
   "source": [
    "# define features and targets\n",
    "X = MalwareDataset[features]\n",
    "y = MalwareDataset[target]"
   ]
  },
  {
   "cell_type": "markdown",
   "id": "b45c57c3",
   "metadata": {
    "papermill": {
     "duration": 0.029588,
     "end_time": "2021-07-25T14:01:34.840289",
     "exception": false,
     "start_time": "2021-07-25T14:01:34.810701",
     "status": "completed"
    },
    "tags": []
   },
   "source": [
    "### Feature Selection"
   ]
  },
  {
   "cell_type": "code",
   "execution_count": 14,
   "id": "159c008b",
   "metadata": {
    "execution": {
     "iopub.execute_input": "2021-07-25T14:01:34.908949Z",
     "iopub.status.busy": "2021-07-25T14:01:34.908240Z",
     "iopub.status.idle": "2021-07-25T14:01:57.323934Z",
     "shell.execute_reply": "2021-07-25T14:01:57.324377Z",
     "shell.execute_reply.started": "2021-07-24T16:10:26.399746Z"
    },
    "papermill": {
     "duration": 22.453995,
     "end_time": "2021-07-25T14:01:57.324578",
     "exception": false,
     "start_time": "2021-07-25T14:01:34.870583",
     "status": "completed"
    },
    "tags": []
   },
   "outputs": [
    {
     "name": "stdout",
     "output_type": "stream",
     "text": [
      "(138047, 71)\n",
      "(138047, 14)\n"
     ]
    }
   ],
   "source": [
    "FeatSelect = ExtraTreesClassifier(n_jobs=-1, n_estimators=400, random_state=RANDOM_STATE).fit(X,y)\n",
    "md = SelectFromModel(FeatSelect, prefit=True)\n",
    "X_new = md.transform(X)\n",
    "print(X.shape)\n",
    "print(X_new.shape)"
   ]
  },
  {
   "cell_type": "code",
   "execution_count": 15,
   "id": "12ea8307",
   "metadata": {
    "execution": {
     "iopub.execute_input": "2021-07-25T14:01:57.394577Z",
     "iopub.status.busy": "2021-07-25T14:01:57.393171Z",
     "iopub.status.idle": "2021-07-25T14:02:19.089683Z",
     "shell.execute_reply": "2021-07-25T14:02:19.089162Z",
     "shell.execute_reply.started": "2021-07-24T16:11:24.270914Z"
    },
    "papermill": {
     "duration": 21.735004,
     "end_time": "2021-07-25T14:02:19.089823",
     "exception": false,
     "start_time": "2021-07-25T14:01:57.354819",
     "status": "completed"
    },
    "tags": []
   },
   "outputs": [
    {
     "data": {
      "text/plain": [
       "['Subsystem_3',\n",
       " 'Subsystem_16',\n",
       " 'SizeOfStackCommit',\n",
       " 'MinorLinkerVersion',\n",
       " 'Machine_512',\n",
       " 'SizeOfOptionalHeader_248',\n",
       " 'Machine_332',\n",
       " 'SizeOfOptionalHeader_232',\n",
       " 'SizeOfImage',\n",
       " 'SizeOfOptionalHeader_224',\n",
       " 'SectionsMinRawsize',\n",
       " 'ResourcesMinSize',\n",
       " 'ResourcesMeanSize',\n",
       " 'MajorImageVersion']"
      ]
     },
     "execution_count": 15,
     "metadata": {},
     "output_type": "execute_result"
    }
   ],
   "source": [
    "# Feature importance - So, the algorithms has selected fifteen important features for us\n",
    "features_new = X_new.shape[1]\n",
    "index = np.argsort(ExtraTreesClassifier(n_jobs=-1, n_estimators=400, random_state=RANDOM_STATE).fit(X,y).feature_importances_)[::-1][:features_new]\n",
    "features.clear()\n",
    "for feat in range(features_new):\n",
    "    features.append(MalwareDataset.columns[2+index[feat]])\n",
    "features"
   ]
  },
  {
   "cell_type": "code",
   "execution_count": 16,
   "id": "0a4f3ff3",
   "metadata": {
    "execution": {
     "iopub.execute_input": "2021-07-25T14:02:19.165197Z",
     "iopub.status.busy": "2021-07-25T14:02:19.164566Z",
     "iopub.status.idle": "2021-07-25T14:02:19.321785Z",
     "shell.execute_reply": "2021-07-25T14:02:19.322320Z",
     "shell.execute_reply.started": "2021-07-24T16:12:20.356346Z"
    },
    "papermill": {
     "duration": 0.201414,
     "end_time": "2021-07-25T14:02:19.322534",
     "exception": false,
     "start_time": "2021-07-25T14:02:19.121120",
     "status": "completed"
    },
    "tags": []
   },
   "outputs": [],
   "source": [
    "# train/test/validation split\n",
    "X = MalwareDataset[features]  # updating features\n",
    "X_train, X_test, y_train, y_test = train_test_split(X, y, test_size=0.4, stratify=y, random_state=RANDOM_STATE)\n",
    "X_test, X_val, y_test, y_val = train_test_split(X_test, y_test, test_size=0.2, stratify=y_test, random_state=RANDOM_STATE)"
   ]
  },
  {
   "cell_type": "markdown",
   "id": "6c53a1d2",
   "metadata": {
    "papermill": {
     "duration": 0.030656,
     "end_time": "2021-07-25T14:02:19.384033",
     "exception": false,
     "start_time": "2021-07-25T14:02:19.353377",
     "status": "completed"
    },
    "tags": []
   },
   "source": [
    "### Fine tuning in LightGBM using Grid Search and Cross-Validation"
   ]
  },
  {
   "cell_type": "code",
   "execution_count": 17,
   "id": "719c99b4",
   "metadata": {
    "execution": {
     "iopub.execute_input": "2021-07-25T14:02:19.452919Z",
     "iopub.status.busy": "2021-07-25T14:02:19.452218Z",
     "iopub.status.idle": "2021-07-25T14:02:19.455169Z",
     "shell.execute_reply": "2021-07-25T14:02:19.454694Z",
     "shell.execute_reply.started": "2021-07-24T16:12:20.679371Z"
    },
    "papermill": {
     "duration": 0.040357,
     "end_time": "2021-07-25T14:02:19.455299",
     "exception": false,
     "start_time": "2021-07-25T14:02:19.414942",
     "status": "completed"
    },
    "tags": []
   },
   "outputs": [],
   "source": [
    "# define params to be used\n",
    "params = {'metric': ['auc'],\n",
    "          'num_threads': [-1],\n",
    "          'force_col_wise': [True],\n",
    "          'verbosity': [-1],\n",
    "          'seed': [RANDOM_STATE],\n",
    "          'is_unbalance': [True],\n",
    "          # From fine-tuning\n",
    "          'max_depth': [-1, 10, 20],\n",
    "          'n_estimators': [50, 100, 200],\n",
    "          'min_child_samples': [10, 20],\n",
    "          'learning_rate': [0.001, 0.01, 0.1],\n",
    "          'subsample': [0.4, 0.92],\n",
    "          'log_max_bin': [5, 8],\n",
    "          'scale_pos_weight': [0.4, 1]}"
   ]
  },
  {
   "cell_type": "code",
   "execution_count": 18,
   "id": "5baaff35",
   "metadata": {
    "execution": {
     "iopub.execute_input": "2021-07-25T14:02:19.522431Z",
     "iopub.status.busy": "2021-07-25T14:02:19.521810Z",
     "iopub.status.idle": "2021-07-25T14:18:12.844326Z",
     "shell.execute_reply": "2021-07-25T14:18:12.843758Z",
     "shell.execute_reply.started": "2021-07-24T16:12:20.694592Z"
    },
    "papermill": {
     "duration": 953.358555,
     "end_time": "2021-07-25T14:18:12.844488",
     "exception": false,
     "start_time": "2021-07-25T14:02:19.485933",
     "status": "completed"
    },
    "tags": []
   },
   "outputs": [
    {
     "name": "stdout",
     "output_type": "stream",
     "text": [
      "Fitting 5 folds for each of 432 candidates, totalling 2160 fits\n"
     ]
    },
    {
     "name": "stderr",
     "output_type": "stream",
     "text": [
      "[Parallel(n_jobs=-1)]: Using backend LokyBackend with 4 concurrent workers.\n",
      "[Parallel(n_jobs=-1)]: Done  17 tasks      | elapsed:    7.6s\n",
      "[Parallel(n_jobs=-1)]: Done  90 tasks      | elapsed:   34.5s\n",
      "[Parallel(n_jobs=-1)]: Done 213 tasks      | elapsed:  1.5min\n",
      "[Parallel(n_jobs=-1)]: Done 384 tasks      | elapsed:  2.7min\n",
      "[Parallel(n_jobs=-1)]: Done 605 tasks      | elapsed:  4.3min\n",
      "[Parallel(n_jobs=-1)]: Done 874 tasks      | elapsed:  6.1min\n",
      "[Parallel(n_jobs=-1)]: Done 1193 tasks      | elapsed:  8.6min\n",
      "[Parallel(n_jobs=-1)]: Done 1560 tasks      | elapsed: 11.3min\n",
      "[Parallel(n_jobs=-1)]: Done 1977 tasks      | elapsed: 14.5min\n",
      "[Parallel(n_jobs=-1)]: Done 2160 out of 2160 | elapsed: 15.9min finished\n"
     ]
    },
    {
     "data": {
      "text/plain": [
       "GridSearchCV(cv=5, estimator=LGBMClassifier(), n_jobs=-1,\n",
       "             param_grid={'force_col_wise': [True], 'is_unbalance': [True],\n",
       "                         'learning_rate': [0.001, 0.01, 0.1],\n",
       "                         'log_max_bin': [5, 8], 'max_depth': [-1, 10, 20],\n",
       "                         'metric': ['auc'], 'min_child_samples': [10, 20],\n",
       "                         'n_estimators': [50, 100, 200], 'num_threads': [-1],\n",
       "                         'scale_pos_weight': [0.4, 1], 'seed': [42],\n",
       "                         'subsample': [0.4, 0.92], 'verbosity': [-1]},\n",
       "             refit=False, return_train_score=True, scoring='roc_auc',\n",
       "             verbose=4)"
      ]
     },
     "execution_count": 18,
     "metadata": {},
     "output_type": "execute_result"
    }
   ],
   "source": [
    "# Fine-Tune LightGBM algorithm, using AUC-ROC to evaluate model\n",
    "md = lgb.LGBMClassifier()\n",
    "clf = GridSearchCV(md, params, scoring='roc_auc', verbose=4, n_jobs=-1, cv=5, refit=False, return_train_score=True)\n",
    "clf.fit(X,y)"
   ]
  },
  {
   "cell_type": "code",
   "execution_count": 19,
   "id": "cc6f3120",
   "metadata": {
    "execution": {
     "iopub.execute_input": "2021-07-25T14:18:12.918026Z",
     "iopub.status.busy": "2021-07-25T14:18:12.917341Z",
     "iopub.status.idle": "2021-07-25T14:18:12.922117Z",
     "shell.execute_reply": "2021-07-25T14:18:12.921515Z",
     "shell.execute_reply.started": "2021-07-24T16:32:20.940061Z"
    },
    "papermill": {
     "duration": 0.043862,
     "end_time": "2021-07-25T14:18:12.922244",
     "exception": false,
     "start_time": "2021-07-25T14:18:12.878382",
     "status": "completed"
    },
    "tags": []
   },
   "outputs": [
    {
     "name": "stdout",
     "output_type": "stream",
     "text": [
      "> Best params: {'force_col_wise': True, 'is_unbalance': True, 'learning_rate': 0.1, 'log_max_bin': 5, 'max_depth': -1, 'metric': 'auc', 'min_child_samples': 20, 'n_estimators': 200, 'num_threads': -1, 'scale_pos_weight': 1, 'seed': 42, 'subsample': 0.4, 'verbosity': -1} \n",
      " > Best score: 0.9979230835402471\n"
     ]
    }
   ],
   "source": [
    "# print results\n",
    "print('> Best params:', clf.best_params_, '\\n', '> Best score:', clf.best_score_)"
   ]
  },
  {
   "cell_type": "markdown",
   "id": "5ac1ce29",
   "metadata": {
    "papermill": {
     "duration": 0.033927,
     "end_time": "2021-07-25T14:18:12.990756",
     "exception": false,
     "start_time": "2021-07-25T14:18:12.956829",
     "status": "completed"
    },
    "tags": []
   },
   "source": [
    "### Train final model"
   ]
  },
  {
   "cell_type": "code",
   "execution_count": 20,
   "id": "d4fb2053",
   "metadata": {
    "execution": {
     "iopub.execute_input": "2021-07-25T14:18:13.066813Z",
     "iopub.status.busy": "2021-07-25T14:18:13.066186Z",
     "iopub.status.idle": "2021-07-25T14:18:15.320365Z",
     "shell.execute_reply": "2021-07-25T14:18:15.321492Z",
     "shell.execute_reply.started": "2021-07-24T16:43:03.144237Z"
    },
    "papermill": {
     "duration": 2.296773,
     "end_time": "2021-07-25T14:18:15.321692",
     "exception": false,
     "start_time": "2021-07-25T14:18:13.024919",
     "status": "completed"
    },
    "tags": []
   },
   "outputs": [],
   "source": [
    "# define parameters of final model\n",
    "params = {'force_col_wise': True,\n",
    "          'is_unbalance': True,\n",
    "          'learning_rate': 0.1,\n",
    "          'max_depth': -1,\n",
    "          'metric': 'auc',\n",
    "          'min_child_samples': 20,\n",
    "          'n_estimators': 200,\n",
    "          'num_threads': -1,\n",
    "          'scale_pos_weight': 1,\n",
    "          'seed': RANDOM_STATE,\n",
    "          'subsample': 0.4,\n",
    "          'verbosity': -1}\n",
    "\n",
    "# train the model\n",
    "model = lgb.LGBMClassifier(**params).fit(X_train, y_train, eval_set=[(X_test, y_test), (X_train, y_train)])\n",
    "clear_output(wait=False)"
   ]
  },
  {
   "cell_type": "markdown",
   "id": "d7b3e5b9",
   "metadata": {
    "papermill": {
     "duration": 0.036365,
     "end_time": "2021-07-25T14:18:15.394318",
     "exception": false,
     "start_time": "2021-07-25T14:18:15.357953",
     "status": "completed"
    },
    "tags": []
   },
   "source": [
    "### Evaluation on validation data"
   ]
  },
  {
   "cell_type": "code",
   "execution_count": 21,
   "id": "a73a6d21",
   "metadata": {
    "execution": {
     "iopub.execute_input": "2021-07-25T14:18:15.468884Z",
     "iopub.status.busy": "2021-07-25T14:18:15.468224Z",
     "iopub.status.idle": "2021-07-25T14:18:15.567496Z",
     "shell.execute_reply": "2021-07-25T14:18:15.568139Z",
     "shell.execute_reply.started": "2021-07-24T16:43:06.905156Z"
    },
    "papermill": {
     "duration": 0.138638,
     "end_time": "2021-07-25T14:18:15.568343",
     "exception": false,
     "start_time": "2021-07-25T14:18:15.429705",
     "status": "completed"
    },
    "tags": []
   },
   "outputs": [],
   "source": [
    "# make prediction and probabilistic prediction on validation set\n",
    "y_pred = model.predict(X_val)\n",
    "y_pred_proba = model.predict_proba(X_val)"
   ]
  },
  {
   "cell_type": "code",
   "execution_count": 22,
   "id": "46a14eae",
   "metadata": {
    "execution": {
     "iopub.execute_input": "2021-07-25T14:18:15.678440Z",
     "iopub.status.busy": "2021-07-25T14:18:15.671633Z",
     "iopub.status.idle": "2021-07-25T14:18:15.853317Z",
     "shell.execute_reply": "2021-07-25T14:18:15.852802Z",
     "shell.execute_reply.started": "2021-07-24T16:43:28.257564Z"
    },
    "papermill": {
     "duration": 0.2478,
     "end_time": "2021-07-25T14:18:15.853447",
     "exception": false,
     "start_time": "2021-07-25T14:18:15.605647",
     "status": "completed"
    },
    "tags": []
   },
   "outputs": [
    {
     "data": {
      "text/plain": [
       "<AxesSubplot:title={'center':'AUC during training'}, xlabel='Number of estimators', ylabel='AUC'>"
      ]
     },
     "execution_count": 22,
     "metadata": {},
     "output_type": "execute_result"
    },
    {
     "data": {
      "image/png": "[encoded data removed]",
      "text/plain": [
       "<Figure size 432x288 with 1 Axes>"
      ]
     },
     "metadata": {
      "needs_background": "light"
     },
     "output_type": "display_data"
    }
   ],
   "source": [
    "# metrics during training plot\n",
    "lgb.plot_metric(model, title='AUC during training', xlabel='Number of estimators', ylabel='AUC')"
   ]
  },
  {
   "cell_type": "code",
   "execution_count": 23,
   "id": "df50e74e",
   "metadata": {
    "execution": {
     "iopub.execute_input": "2021-07-25T14:18:15.936128Z",
     "iopub.status.busy": "2021-07-25T14:18:15.935427Z",
     "iopub.status.idle": "2021-07-25T14:18:16.147947Z",
     "shell.execute_reply": "2021-07-25T14:18:16.148416Z",
     "shell.execute_reply.started": "2021-07-24T16:43:32.441021Z"
    },
    "papermill": {
     "duration": 0.258408,
     "end_time": "2021-07-25T14:18:16.148656",
     "exception": false,
     "start_time": "2021-07-25T14:18:15.890248",
     "status": "completed"
    },
    "tags": []
   },
   "outputs": [
    {
     "data": {
      "text/plain": [
       "[]"
      ]
     },
     "execution_count": 23,
     "metadata": {},
     "output_type": "execute_result"
    },
    {
     "data": {
      "image/png": "[encoded data removed]",
      "text/plain": [
       "<Figure size 600x400 with 1 Axes>"
      ]
     },
     "metadata": {
      "needs_background": "light"
     },
     "output_type": "display_data"
    }
   ],
   "source": [
    "# ROC-AUC plot\n",
    "\n",
    "fpr = {}\n",
    "tpr = {}\n",
    "thresh ={}\n",
    "roc_auc = []\n",
    "n_class = 2\n",
    "\n",
    "# evaluate FPR/TPR for each class\n",
    "for i in range(n_class):    \n",
    "    fpr[i], tpr[i], thresh[i] = metrics.roc_curve(y_val, y_pred_proba[:,i], pos_label=i)\n",
    "    roc_auc.append(metrics.auc(fpr[i], tpr[i]))\n",
    "plt.figure(dpi=100)\n",
    "\n",
    "# for each class\n",
    "plt.plot(fpr[0], tpr[0], linestyle='--',color='orange', label='Legitimate (AUC = {1:0.4f})'.format(i, roc_auc[0]))\n",
    "plt.plot(fpr[1], tpr[1], linestyle='--',color='green', label='Malware (AUC = {1:0.4f})'.format(i, roc_auc[1]))\n",
    "\n",
    "# plot\n",
    "plt.title('ROC-AUC Plot')\n",
    "plt.xlabel('False Positive rate')\n",
    "plt.ylabel('True Positive rate')\n",
    "plt.legend(loc='best')\n",
    "plt.plot()"
   ]
  },
  {
   "cell_type": "code",
   "execution_count": 24,
   "id": "0819c6b4",
   "metadata": {
    "execution": {
     "iopub.execute_input": "2021-07-25T14:18:16.230711Z",
     "iopub.status.busy": "2021-07-25T14:18:16.229967Z",
     "iopub.status.idle": "2021-07-25T14:18:16.236049Z",
     "shell.execute_reply": "2021-07-25T14:18:16.235383Z",
     "shell.execute_reply.started": "2021-07-24T16:43:38.417038Z"
    },
    "papermill": {
     "duration": 0.049213,
     "end_time": "2021-07-25T14:18:16.236187",
     "exception": false,
     "start_time": "2021-07-25T14:18:16.186974",
     "status": "completed"
    },
    "tags": []
   },
   "outputs": [
    {
     "data": {
      "text/plain": [
       "0.9869612459253894"
      ]
     },
     "execution_count": 24,
     "metadata": {},
     "output_type": "execute_result"
    }
   ],
   "source": [
    "# accuracy score\n",
    "metrics.accuracy_score(y_val, y_pred)"
   ]
  },
  {
   "cell_type": "code",
   "execution_count": 25,
   "id": "b93f1975",
   "metadata": {
    "execution": {
     "iopub.execute_input": "2021-07-25T14:18:16.317190Z",
     "iopub.status.busy": "2021-07-25T14:18:16.316516Z",
     "iopub.status.idle": "2021-07-25T14:18:16.334458Z",
     "shell.execute_reply": "2021-07-25T14:18:16.333573Z",
     "shell.execute_reply.started": "2021-07-24T16:43:41.705023Z"
    },
    "papermill": {
     "duration": 0.06081,
     "end_time": "2021-07-25T14:18:16.334678",
     "exception": false,
     "start_time": "2021-07-25T14:18:16.273868",
     "status": "completed"
    },
    "tags": []
   },
   "outputs": [
    {
     "name": "stdout",
     "output_type": "stream",
     "text": [
      "F1 micro: 0.9869612459253894\n",
      "F1 macro: 0.9845144156688949\n"
     ]
    }
   ],
   "source": [
    "# F1-Score\n",
    "print('F1 micro:',metrics.f1_score(y_val, y_pred, average='micro'))\n",
    "print('F1 macro:',metrics.f1_score(y_val, y_pred, average='macro'))"
   ]
  },
  {
   "cell_type": "code",
   "execution_count": null,
   "id": "3ebe19e1",
   "metadata": {
    "papermill": {
     "duration": 0.04046,
     "end_time": "2021-07-25T14:18:16.421752",
     "exception": false,
     "start_time": "2021-07-25T14:18:16.381292",
     "status": "completed"
    },
    "tags": []
   },
   "outputs": [],
   "source": []
  }
 ],
 "metadata": {
  "kernelspec": {
   "display_name": "Python 3",
   "language": "python",
   "name": "python3"
  },
  "language_info": {
   "codemirror_mode": {
    "name": "ipython",
    "version": 3
   },
   "file_extension": ".py",
   "mimetype": "text/x-python",
   "name": "python",
   "nbconvert_exporter": "python",
   "pygments_lexer": "ipython3",
   "version": "3.7.10"
  },
  "papermill": {
   "default_parameters": {},
   "duration": 1017.084595,
   "end_time": "2021-07-25T14:18:17.381485",
   "environment_variables": {},
   "exception": null,
   "input_path": "__notebook__.ipynb",
   "output_path": "__notebook__.ipynb",
   "parameters": {},
   "start_time": "2021-07-25T14:01:20.296890",
   "version": "2.3.3"
  }
 },
 "nbformat": 4,
 "nbformat_minor": 5
}
